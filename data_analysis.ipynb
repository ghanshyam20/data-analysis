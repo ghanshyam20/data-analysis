{
 "cells": [
  {
   "cell_type": "markdown",
   "id": "6fce0532-58e7-4a6c-8650-648997bf62a7",
   "metadata": {},
   "source": [
    "#hey jupyter notebook \n",
    "\n",
    "\n",
    "print(\"data science\")"
   ]
  },
  {
   "cell_type": "code",
   "execution_count": 3,
   "id": "8783628b-0134-4350-8d0d-a0403cc9f567",
   "metadata": {},
   "outputs": [],
   "source": [
    "#why do we use jupyter notebook ???\n",
    "\n",
    "#The answer is it is interactive real time environment to produce our data to do analysis.\n",
    "\n"
   ]
  },
  {
   "cell_type": "code",
   "execution_count": 5,
   "id": "2e5f1781-b937-4814-a9a6-ee86d13967a8",
   "metadata": {},
   "outputs": [
    {
     "data": {
      "text/plain": [
       "4"
      ]
     },
     "execution_count": 5,
     "metadata": {},
     "output_type": "execute_result"
    }
   ],
   "source": [
    "1+3\n"
   ]
  },
  {
   "cell_type": "code",
   "execution_count": 7,
   "id": "0d73bcb2-c51c-4bb1-887a-144403758d2d",
   "metadata": {},
   "outputs": [],
   "source": [
    "#cell can be either python code or markdown\n",
    "#When your formatting your reports you can use markdown to accomplish it \n",
    "# Markdown is like comment anything you can write.\n",
    "#"
   ]
  },
  {
   "cell_type": "code",
   "execution_count": 9,
   "id": "e8568460-74f7-49f1-ac94-18d3bc040214",
   "metadata": {},
   "outputs": [],
   "source": [
    "# shortcut key for deleting a cell is 2 times d =>dd"
   ]
  },
  {
   "cell_type": "code",
   "execution_count": 11,
   "id": "355231bd-9d4f-4ee7-b6a7-a77b1ece86d2",
   "metadata": {},
   "outputs": [],
   "source": [
    "# for creating new cell it is a"
   ]
  },
  {
   "cell_type": "code",
   "execution_count": 13,
   "id": "67906efc-6702-4990-9022-53f291d905fb",
   "metadata": {},
   "outputs": [],
   "source": [
    "# You can type b for creating cell below"
   ]
  },
  {
   "cell_type": "code",
   "execution_count": 15,
   "id": "3953d5c5-c523-43bc-9e06-0687ee1dc200",
   "metadata": {},
   "outputs": [],
   "source": [
    "#Jupyter notebook is bacially the mode based editors \n",
    "# it has 2 modes command mode and edit mode \n",
    "# Z key is for undo dont need to press together with control Z\n"
   ]
  },
  {
   "cell_type": "code",
   "execution_count": null,
   "id": "beb7ec5f-8d58-4a41-b822-f9f84e1bf9ef",
   "metadata": {},
   "outputs": [],
   "source": [
    "\n",
    "#intro to numpy=> It is one of the python libraries or data processing in general\n",
    "#its has very limited scope numeric processing library\n",
    "#\n",
    "\n",
    "\n"
   ]
  }
 ],
 "metadata": {
  "kernelspec": {
   "display_name": "Python 3 (ipykernel)",
   "language": "python",
   "name": "python3"
  },
  "language_info": {
   "codemirror_mode": {
    "name": "ipython",
    "version": 3
   },
   "file_extension": ".py",
   "mimetype": "text/x-python",
   "name": "python",
   "nbconvert_exporter": "python",
   "pygments_lexer": "ipython3",
   "version": "3.12.4"
  }
 },
 "nbformat": 4,
 "nbformat_minor": 5
}
